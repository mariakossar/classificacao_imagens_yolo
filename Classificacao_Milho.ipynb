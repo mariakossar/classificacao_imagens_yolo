{
  "cells": [
    {
      "cell_type": "markdown",
      "metadata": {
        "id": "view-in-github",
        "colab_type": "text"
      },
      "source": [
        "<a href=\"https://colab.research.google.com/github/mariakossar/classificacao_imagens_yolo/blob/main/Classificacao_Milho.ipynb\" target=\"_parent\"><img src=\"https://colab.research.google.com/assets/colab-badge.svg\" alt=\"Open In Colab\"/></a>"
      ]
    },
    {
      "cell_type": "code",
      "execution_count": null,
      "metadata": {
        "id": "V_Rnf265eDuV"
      },
      "outputs": [],
      "source": [
        "from google.colab import drive\n",
        "drive.mount('/content/drive')"
      ]
    },
    {
      "cell_type": "code",
      "execution_count": null,
      "metadata": {
        "id": "HxadHmJqez5U"
      },
      "outputs": [],
      "source": [
        "import os\n",
        "import cv2\n",
        "import matplotlib.pyplot as plt"
      ]
    },
    {
      "cell_type": "code",
      "execution_count": null,
      "metadata": {
        "id": "GTmrJqTie8Ju"
      },
      "outputs": [],
      "source": [
        "os.chdir('/content/drive/MyDrive')"
      ]
    },
    {
      "cell_type": "code",
      "execution_count": null,
      "metadata": {
        "id": "cRpHi0SgfFJ6"
      },
      "outputs": [],
      "source": [
        "!pip install ultralytics"
      ]
    },
    {
      "cell_type": "code",
      "execution_count": null,
      "metadata": {
        "id": "cr1ilvejfMan"
      },
      "outputs": [],
      "source": [
        "from ultralytics import YOLO"
      ]
    },
    {
      "cell_type": "code",
      "execution_count": null,
      "metadata": {
        "id": "s1JgwtR9fWsL"
      },
      "outputs": [],
      "source": [
        "model = YOLO(\"yolov8m-cls.pt\")"
      ]
    },
    {
      "cell_type": "code",
      "execution_count": null,
      "metadata": {
        "id": "OIkjryWbfqm9"
      },
      "outputs": [],
      "source": [
        "model.train(data='/content/drive/MyDrive/arquivo', epochs=40, model=\"yolov8m-cls.pt\")"
      ]
    },
    {
      "cell_type": "code",
      "execution_count": null,
      "metadata": {
        "id": "jTkHsPDITnhM"
      },
      "outputs": [],
      "source": [
        "imagens0_teste = \"/content/drive/MyDrive/ArquivoImagens0Teste\""
      ]
    },
    {
      "cell_type": "code",
      "source": [
        "resultado = model(imagens01_teste)"
      ],
      "metadata": {
        "id": "fC4iRZrYLkKa"
      },
      "execution_count": null,
      "outputs": []
    },
    {
      "cell_type": "code",
      "source": [
        "imagens75_teste = \"/content/drive/MyDrive/ArquivoImagens075Teste\""
      ],
      "metadata": {
        "id": "v2ez49zHSSzM"
      },
      "execution_count": null,
      "outputs": []
    },
    {
      "cell_type": "code",
      "source": [
        "resultado = model(imagens75_teste)"
      ],
      "metadata": {
        "id": "qApzYrJqSZ-H"
      },
      "execution_count": null,
      "outputs": []
    },
    {
      "cell_type": "code",
      "execution_count": null,
      "metadata": {
        "id": "q-o7FvGeltm0"
      },
      "outputs": [],
      "source": [
        "imagens136_teste = \"/content/drive/MyDrive/ArquivoImagens136Teste\""
      ]
    },
    {
      "cell_type": "code",
      "execution_count": null,
      "metadata": {
        "id": "20lXNHObmTts"
      },
      "outputs": [],
      "source": [
        "resultado = model(imagens136_teste)"
      ]
    },
    {
      "cell_type": "code",
      "execution_count": null,
      "metadata": {
        "id": "HaofevavWIUo"
      },
      "outputs": [],
      "source": [
        "import matplotlib.pyplot as plt\n",
        "import matplotlib.image as mpimg\n",
        "\n",
        "\n",
        "for i, result in enumerate(resultado):\n",
        "    boxes = result.boxes\n",
        "    top_class_index = result.probs.top1\n",
        "    top_class_name = result.names[top_class_index]\n",
        "    nome_arquivo = f\"resultado_{i}.jpg\"\n",
        "    result.save(filename=nome_arquivo)\n",
        "\n",
        "\n",
        "    image = mpimg.imread(nome_arquivo)\n",
        "    plt.imshow(image)\n",
        "    plt.axis('off')\n",
        "\n",
        "\n",
        "    legenda = f\"Classe: {top_class_name}\"\n",
        "    plt.text(10, 10, legenda, color='red', fontsize=8, bbox=dict(facecolor='white', alpha=0.7))\n",
        "\n",
        "    plt.title(f\"Resultado {i+1}\")\n",
        "    plt.show()\n",
        "\n",
        "\n",
        "plt.show()\n",
        "\n"
      ]
    }
  ],
  "metadata": {
    "accelerator": "GPU",
    "colab": {
      "gpuType": "T4",
      "provenance": [],
      "include_colab_link": true
    },
    "kernelspec": {
      "display_name": "Python 3",
      "name": "python3"
    },
    "language_info": {
      "name": "python"
    }
  },
  "nbformat": 4,
  "nbformat_minor": 0
}